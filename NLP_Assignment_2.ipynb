{
  "nbformat": 4,
  "nbformat_minor": 0,
  "metadata": {
    "colab": {
      "provenance": []
    },
    "kernelspec": {
      "name": "python3",
      "display_name": "Python 3"
    },
    "language_info": {
      "name": "python"
    }
  },
  "cells": [
    {
      "cell_type": "code",
      "source": [
        "import requests\n",
        "from bs4 import BeautifulSoup\n",
        "from datetime import datetime, timedelta\n",
        "import random\n",
        "\n",
        "# Define a custom user-agent header to mimic a browser\n",
        "user_agent = f\"Mozilla/5.0 (Windows NT 10.0; Win64; x64) AppleWebKit/537.36 (KHTML, like Gecko) Chrome/{random.randint(90, 100)}.0.0.0 Safari/537.36\"\n",
        "\n",
        "def scrape_news(search_term=\"reliance industries ltd\", max_retries=3):\n",
        "  \"\"\"\n",
        "  Scrapes Google News for articles mentioning the search term within the last 24 hours.\n",
        "\n",
        "  Args:\n",
        "      search_term (str, optional): The search term to use for Google News. Defaults to \"reliance industries ltd\".\n",
        "      max_retries (int, optional): The maximum number of retries in case of network errors. Defaults to 3.\n",
        "\n",
        "  Returns:\n",
        "      list: A list of dictionaries containing the article URL and text snippet (if successful).\n",
        "              An empty list if scraping fails after retries.\n",
        "  \"\"\"\n",
        "\n",
        "  news_articles = []\n",
        "  current_time = datetime.now()\n",
        "\n",
        "  for attempt in range(max_retries + 1):\n",
        "    try:\n",
        "      # Construct Google News search URL\n",
        "      url = f\"https://news.google.com/search?q={search_term}&hl=en-IN&gl=IN&ceid=IN%3Aen\"\n",
        "\n",
        "      # Send a GET request with a user-agent header\n",
        "      headers = {'User-Agent': user_agent}\n",
        "      response = requests.get(url, headers=headers)\n",
        "      response.raise_for_status()  # Raise an exception for non-200 status codes\n",
        "\n",
        "      # Parse the HTML content\n",
        "      soup = BeautifulSoup(response.text, 'html.parser')\n",
        "\n",
        "      # Find links and dates (logic similar to previous version)\n",
        "      links = soup.find_all('a', class_='JtKRv')\n",
        "      dates = soup.find_all('time', class_='hvbAAd')\n",
        "\n",
        "      for date, link in zip(dates, links):\n",
        "        date_text = date.get_text(strip=True)\n",
        "\n",
        "        if 'hours' in date_text or 'hour' in date_text:\n",
        "          hours_ago = int(date_text.split()[0])\n",
        "          publication_date = current_time - timedelta(hours=hours_ago)\n",
        "\n",
        "          if publication_date >= current_time - timedelta(hours=24):\n",
        "            href = link.get('href')\n",
        "            if href and 'article' in href:\n",
        "              article_url = 'https://www.google.com' + href.lstrip('.')\n",
        "              article_text = link.get_text()\n",
        "\n",
        "              news_articles.append({'source': article_url, 'text': article_text})\n",
        "\n",
        "      return news_articles\n",
        "\n",
        "    except requests.exceptions.RequestException as e:\n",
        "      # Handle network errors and retry if within attempts limit\n",
        "      print(f\"Error occurred during attempt {attempt + 1}: {e}\")\n",
        "      if attempt < max_retries:\n",
        "        print(f\"Retrying in 5 seconds...\")\n",
        "        time.sleep(5)\n",
        "      else:\n",
        "        print(\"Maximum retries reached. Scraping failed.\")\n",
        "        return []  # Return empty list on failure\n",
        "\n",
        "  # Shouldn't reach here, but return empty list in case\n",
        "  return []\n",
        "\n",
        "# Example usage\n",
        "result = scrape_news()\n",
        "\n",
        "if result:\n",
        "  print(result)\n",
        "else:\n",
        "  print(\"No articles found or scraping failed.\")\n"
      ],
      "metadata": {
        "colab": {
          "base_uri": "https://localhost:8080/"
        },
        "id": "pt6JyDXRXUGV",
        "outputId": "1dc9fe79-6a74-4078-ae71-6bee48908bb5"
      },
      "execution_count": 5,
      "outputs": [
        {
          "output_type": "stream",
          "name": "stdout",
          "text": [
            "[{'source': 'https://www.google.com/articles/CBMie2h0dHBzOi8vaW5kaWFuZXhwcmVzcy5jb20vYXJ0aWNsZS9pbmRpYS9kaXJlY3RvcnMtb2Ytb3duZXItZmlybXMtb2YtZG9ub3Itbm8tMy1xd2lrLXN1cHBseS1hcmUtcmVsaWFuY2UtZXhlY3V0aXZlcy05MjE3MDQ2L9IBgAFodHRwczovL2luZGlhbmV4cHJlc3MuY29tL2FydGljbGUvaW5kaWEvZGlyZWN0b3JzLW9mLW93bmVyLWZpcm1zLW9mLWRvbm9yLW5vLTMtcXdpay1zdXBwbHktYXJlLXJlbGlhbmNlLWV4ZWN1dGl2ZXMtOTIxNzA0Ni9saXRlLw?hl=en-IN&gl=IN&ceid=IN%3Aen', 'text': 'Directors of owner firms of Donor No. 3 Qwik Supply are Reliance executives'}, {'source': 'https://www.google.com/articles/CBMiigFodHRwczovL3RpbWVzb2ZpbmRpYS5pbmRpYXRpbWVzLmNvbS9pbmRpYS8yLXF3aWstc3VwcGx5LWRpcmVjdG9ycy1saW5rZWQtdG8tcmVsaWFuY2UtZW50aXRpZXMtbm90LXN1YnNpZGlhcnktcmlsL2FydGljbGVzaG93LzEwODUzNDA2MC5jbXPSAY4BaHR0cHM6Ly90aW1lc29maW5kaWEuaW5kaWF0aW1lcy5jb20vaW5kaWEvMi1xd2lrLXN1cHBseS1kaXJlY3RvcnMtbGlua2VkLXRvLXJlbGlhbmNlLWVudGl0aWVzLW5vdC1zdWJzaWRpYXJ5LXJpbC9hbXBfYXJ0aWNsZXNob3cvMTA4NTM0MDYwLmNtcw?hl=en-IN&gl=IN&ceid=IN%3Aen', 'text': '2 Qwik Supply directors linked to Reliance entities; not subsidiary: RIL'}, {'source': 'https://www.google.com/articles/CBMihQFodHRwczovL21vcnVuZ2V4cHJlc3MuY29tL2VsZWN0b3JhbC1ib25kcy1zY2hlbWUtcmVsaWFuY2UtbGlua2VkLWVudGl0aWVzLWtvdGFrLW1haGluZHJhLWFuZC1hZGl0eWEtYmlybGEtZ3JvdXBzLWFyZS1hbW9uZy10b3AtZG9ub3Jz0gEA?hl=en-IN&gl=IN&ceid=IN%3Aen', 'text': 'Electoral Bonds Scheme: Reliance-linked entities, Kotak Mahindra and Aditya Birla groups are among top donors'}, {'source': 'https://www.google.com/articles/CBMiZ2h0dHBzOi8vaHduZXdzLmluL25ld3MvbmF0aW9uYWwvcmVsaWFuY2UtZXhlY3V0aXZlcy1yZXZlYWxlZC1hcy1kaXJlY3RvcnMtZm9yLXF3aWstc3VwcGx5cy1vd25lci1maXJtcy_SAQA?hl=en-IN&gl=IN&ceid=IN%3Aen', 'text': \"Reliance Executives Revealed As Directors For Qwik Supply's Owner Firms\"}, {'source': 'https://www.google.com/articles/CBMikwFodHRwczovL3d3dy5maW5hbmNpYWxleHByZXNzLmNvbS9tYXJrZXQvcmVsaWFuY2UtbGlua2VkLXF3aWstc3VwcGx5LXRoaXJkLWxhcmdlc3QtZWxlY3RvcmFsLWJvbmQtYnV5ZXItcmVsaWFuY2Utc2F5cy1jby1ub3QtaXRzLXN1YnNpZGlhcnktMzQyNjQ1NS_SAZgBaHR0cHM6Ly93d3cuZmluYW5jaWFsZXhwcmVzcy5jb20vbWFya2V0L3JlbGlhbmNlLWxpbmtlZC1xd2lrLXN1cHBseS10aGlyZC1sYXJnZXN0LWVsZWN0b3JhbC1ib25kLWJ1eWVyLXJlbGlhbmNlLXNheXMtY28tbm90LWl0cy1zdWJzaWRpYXJ5LTM0MjY0NTUvbGl0ZS8?hl=en-IN&gl=IN&ceid=IN%3Aen', 'text': 'Reliance-linked Qwik Supply Chain emerges from shadow'}]\n"
          ]
        }
      ]
    }
  ]
}